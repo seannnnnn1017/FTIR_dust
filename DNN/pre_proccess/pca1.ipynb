{
 "cells": [
  {
   "cell_type": "code",
   "execution_count": 1,
   "metadata": {},
   "outputs": [
    {
     "name": "stdout",
     "output_type": "stream",
     "text": [
      "(5, 3)\n"
     ]
    }
   ],
   "source": [
    "import numpy as np\n",
    "\n",
    "data = np.array([\n",
    "    [4.5, 2.3, 3.1],\n",
    "    [5.0, 2.9, 3.5],\n",
    "    [4.2, 2.5, 3.0],\n",
    "    [5.1, 3.0, 3.6],\n",
    "    [4.8, 2.7, 3.2]\n",
    "])\n",
    "\n",
    "print(data.shape)  # Output: (5, 3)\n"
   ]
  },
  {
   "cell_type": "code",
   "execution_count": 4,
   "metadata": {},
   "outputs": [
    {
     "name": "stdout",
     "output_type": "stream",
     "text": [
      "原始資料:\n",
      "[[4.5 2.3 3.1]\n",
      " [5.  2.9 3.5]\n",
      " [4.2 2.5 3. ]\n",
      " [5.1 3.  3.6]\n",
      " [4.8 2.7 3.2]]\n",
      "前兩個主成分向量:\n",
      "[[ 0.70041464  0.51903736  0.4899179 ]\n",
      " [-0.59328941  0.80497598 -0.00462122]]\n",
      "\n",
      "降維後的數據 (2 維):\n",
      "[[-0.43951064 -0.17453538]\n",
      " [ 0.41808626  0.00995701]\n",
      " [-0.59481935  0.16490876]\n",
      " [ 0.58902325  0.03066355]\n",
      " [ 0.02722049 -0.03099394]]\n"
     ]
    }
   ],
   "source": [
    "from sklearn.decomposition import PCA\n",
    "# 建立 PCA 模型並設定要取得的主成分數量\n",
    "pca = PCA(n_components=2)\n",
    "\n",
    "# 使用 PCA 來擬合數據並轉換\n",
    "transformed_data = pca.fit_transform(data)\n",
    "\n",
    "# 查看前兩個主成分向量\n",
    "principal_components = pca.components_\n",
    "print(\"原始資料:\")\n",
    "print(data)\n",
    "# 輸出主成分向量和降維後的數據\n",
    "print(\"前兩個主成分向量:\")\n",
    "print(principal_components)\n",
    "\n",
    "print(\"\\n降維後的數據 (2 維):\")\n",
    "print(transformed_data)"
   ]
  },
  {
   "cell_type": "code",
   "execution_count": 9,
   "metadata": {},
   "outputs": [
    {
     "name": "stdout",
     "output_type": "stream",
     "text": [
      "-0.43951063960000003\n"
     ]
    }
   ],
   "source": [
    "a=[-0.22, -0.38, -0.18] #去中心化的第一筆資料\n",
    "b=[ 0.70041464 , 0.51903736 , 0.4899179 ] #第一主成分\n",
    "dot_product = np.dot(b,a)\n",
    "print(dot_product) #降維後的數據 (2 維)第一筆資料的第一個特徵"
   ]
  }
 ],
 "metadata": {
  "kernelspec": {
   "display_name": "Python 3",
   "language": "python",
   "name": "python3"
  },
  "language_info": {
   "codemirror_mode": {
    "name": "ipython",
    "version": 3
   },
   "file_extension": ".py",
   "mimetype": "text/x-python",
   "name": "python",
   "nbconvert_exporter": "python",
   "pygments_lexer": "ipython3",
   "version": "3.11.0"
  }
 },
 "nbformat": 4,
 "nbformat_minor": 2
}
